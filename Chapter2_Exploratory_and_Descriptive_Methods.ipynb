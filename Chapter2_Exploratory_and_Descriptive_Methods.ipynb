{
 "cells": [
  {
   "cell_type": "markdown",
   "metadata": {},
   "source": [
    "# Chapter 2: Exploratory and Descriptive Methods\n",
    "Before beginning any sort of statistical analysis, it is imperative to take a preliminary\n",
    "look at the data with three main goals in mind:\n",
    "* <font color=red> check for errors and anomalies</font> Errors should, of course, be corrected, since even a small percentage of erroneous data values can drastically influence the results.\n",
    "* <font color=red>understand the distribution of each of the variables on its own.</font> Understanding the distribution of the variables, especially the outcomes, is crucial to choosing the appropriate multipredictor regression method.\n",
    "* <font color=red>begin to understand the nature and strength of relationships among variables.</font> Finally, understanding the nature and strength of relationships is the first step in building a more formal statistical model from which to draw conclusions.\n",
    "\n",
    "## 2.1 Data Checking\n",
    "Procedures for data checking should be implemented before data entry begins, to\n",
    "head off future headaches. Many data entry programs have the capability to screen\n",
    "for egregious errors, including values that are out the expected range or of the\n",
    "wrong “type.” If this is not possible, then we recommend regular checking for data\n",
    "problems as the database is constructed.\n",
    "Here are two examples we have encountered recently.\n",
    "##### Example 1. \n",
    "some values of a\n",
    "variable defined as a proportion were inadvertently entered as percentages (i.e., 100\n",
    "times larger than they should have been). Although they made up less than 3% of the\n",
    "values, the analysis was completely invalidated. Fortunately, this simple error was\n",
    "easily corrected once discovered.\n",
    "##### Example 2.\n",
    "A second example involved patients with a heart\n",
    "anomaly. Those whose diagnostic score was poor enough (i.e., exceeded a numerical\n",
    "threshold) were to be classified according to the type of anomaly. Data checks\n",
    "revealed missing classifications for patients whose diagnostic score exceeded the threshold, as well as classifications for patients whose score did not, complicating\n",
    "planned analyses. Had the data been screened as they were collected, this problem\n",
    "with study procedures could have been avoided.\n",
    "\n",
    "## 2.2 Types of Data\n",
    "The proper description of data depends on the nature of the measurement. The key\n",
    "distinction for statistical analysis is between numerical and categorical variables.The number of diagnostic tests ordered is a numerical variable, while the gender\n",
    "of a person is categorical.\n",
    "\n",
    "A secondary but sometimes important distinction within numerical variables is\n",
    "whether the variable can take on a whole continuum or just a discrete set of values.\n",
    "\n",
    "<font color=DodgerBlue> Definition: A numerical variable taking on a continuum of values is called continuous and\n",
    "one that only takes on a discrete set of values is called discrete.</font>\n",
    "\n",
    "A secondary distinction sometimes made with regard to categorical variables\n",
    "is whether the categories are ordered or unordered.\n",
    "\n",
    "<font color=DodgerBlue> Definition: A categorical variable is ordinal if the categories can be logically ordered from\n",
    "smallest to largest in a sense meaningful for the question at hand (we need to rule out silly\n",
    "orders like alphabetical); otherwise it is unordered or nominal.</font>\n",
    "\n",
    "This is the outline of the rest of this chapter.     \n",
    "\n",
    "## 2.3 One-Variable Descriptions\n",
    "We begin by describing techniques useful for examining a single variable at a time.\n",
    "These are useful for uncovering mistakes or extreme values in the data and for\n",
    "assessing distributional shape.\n",
    "### 2.3.1. Numerical Variables\n",
    "We can describe the distribution of numerical variables using either numerical or\n",
    "graphical techniques.\n",
    "##### Example Systolic Blood Pressure\n",
    "The western collaborative group study (WCGS) was a large epidemiological study\n",
    "designed to investigate the association between the “type A” behavior pattern and\n",
    "coronary heart disease (CHD) (Rosenman et al. 1964). We will revisit this study\n",
    "later in the book, focusing on the primary outcome, but for now we want to explore\n",
    "the distribution of SBP."
   ]
  },
  {
   "cell_type": "code",
   "execution_count": 1,
   "metadata": {},
   "outputs": [],
   "source": [
    "import numpy as np \n",
    "import pandas as pd\n",
    "import scipy as sp\n",
    "import matplotlib.pyplot as plt\n",
    "import seaborn as sns\n",
    "from matplotlib import colors\n",
    "from matplotlib.ticker import PercentFormatter\n",
    "%matplotlib inline\n",
    "plt.style.use('seaborn-white')"
   ]
  },
  {
   "cell_type": "code",
   "execution_count": 2,
   "metadata": {},
   "outputs": [],
   "source": [
    "import warnings\n",
    "warnings.filterwarnings('ignore')"
   ]
  },
  {
   "cell_type": "markdown",
   "metadata": {},
   "source": [
    "##### Load the data `wcgs`"
   ]
  },
  {
   "cell_type": "code",
   "execution_count": 3,
   "metadata": {},
   "outputs": [
    {
     "data": {
      "text/html": [
       "<div>\n",
       "<style scoped>\n",
       "    .dataframe tbody tr th:only-of-type {\n",
       "        vertical-align: middle;\n",
       "    }\n",
       "\n",
       "    .dataframe tbody tr th {\n",
       "        vertical-align: top;\n",
       "    }\n",
       "\n",
       "    .dataframe thead th {\n",
       "        text-align: right;\n",
       "    }\n",
       "</style>\n",
       "<table border=\"1\" class=\"dataframe\">\n",
       "  <thead>\n",
       "    <tr style=\"text-align: right;\">\n",
       "      <th></th>\n",
       "      <th>age</th>\n",
       "      <th>arcus</th>\n",
       "      <th>behpat</th>\n",
       "      <th>bmi</th>\n",
       "      <th>chd69</th>\n",
       "      <th>chol</th>\n",
       "      <th>dbp</th>\n",
       "      <th>dibpat</th>\n",
       "      <th>height</th>\n",
       "      <th>lnsbp</th>\n",
       "      <th>...</th>\n",
       "      <th>ncigs</th>\n",
       "      <th>sbp</th>\n",
       "      <th>smoke</th>\n",
       "      <th>t1</th>\n",
       "      <th>time169</th>\n",
       "      <th>typchd69</th>\n",
       "      <th>uni</th>\n",
       "      <th>weight</th>\n",
       "      <th>wghtcat</th>\n",
       "      <th>agec</th>\n",
       "    </tr>\n",
       "    <tr>\n",
       "      <th>id</th>\n",
       "      <th></th>\n",
       "      <th></th>\n",
       "      <th></th>\n",
       "      <th></th>\n",
       "      <th></th>\n",
       "      <th></th>\n",
       "      <th></th>\n",
       "      <th></th>\n",
       "      <th></th>\n",
       "      <th></th>\n",
       "      <th></th>\n",
       "      <th></th>\n",
       "      <th></th>\n",
       "      <th></th>\n",
       "      <th></th>\n",
       "      <th></th>\n",
       "      <th></th>\n",
       "      <th></th>\n",
       "      <th></th>\n",
       "      <th></th>\n",
       "      <th></th>\n",
       "    </tr>\n",
       "  </thead>\n",
       "  <tbody>\n",
       "    <tr>\n",
       "      <th>2343</th>\n",
       "      <td>50</td>\n",
       "      <td>1.0</td>\n",
       "      <td>A1</td>\n",
       "      <td>31.321007</td>\n",
       "      <td>No</td>\n",
       "      <td>249.0</td>\n",
       "      <td>90</td>\n",
       "      <td>Type A</td>\n",
       "      <td>67</td>\n",
       "      <td>4.882802</td>\n",
       "      <td>...</td>\n",
       "      <td>25</td>\n",
       "      <td>132</td>\n",
       "      <td>Yes</td>\n",
       "      <td>-1.633353</td>\n",
       "      <td>1367</td>\n",
       "      <td>0</td>\n",
       "      <td>0.486074</td>\n",
       "      <td>200</td>\n",
       "      <td>170-200</td>\n",
       "      <td>46-50</td>\n",
       "    </tr>\n",
       "    <tr>\n",
       "      <th>3656</th>\n",
       "      <td>51</td>\n",
       "      <td>0.0</td>\n",
       "      <td>A1</td>\n",
       "      <td>25.328579</td>\n",
       "      <td>No</td>\n",
       "      <td>194.0</td>\n",
       "      <td>74</td>\n",
       "      <td>Type A</td>\n",
       "      <td>73</td>\n",
       "      <td>4.787492</td>\n",
       "      <td>...</td>\n",
       "      <td>25</td>\n",
       "      <td>120</td>\n",
       "      <td>Yes</td>\n",
       "      <td>-4.063366</td>\n",
       "      <td>2991</td>\n",
       "      <td>0</td>\n",
       "      <td>0.185954</td>\n",
       "      <td>192</td>\n",
       "      <td>170-200</td>\n",
       "      <td>51-55</td>\n",
       "    </tr>\n",
       "    <tr>\n",
       "      <th>3526</th>\n",
       "      <td>59</td>\n",
       "      <td>1.0</td>\n",
       "      <td>A1</td>\n",
       "      <td>28.693878</td>\n",
       "      <td>No</td>\n",
       "      <td>258.0</td>\n",
       "      <td>94</td>\n",
       "      <td>Type A</td>\n",
       "      <td>70</td>\n",
       "      <td>5.062595</td>\n",
       "      <td>...</td>\n",
       "      <td>0</td>\n",
       "      <td>158</td>\n",
       "      <td>No</td>\n",
       "      <td>0.639729</td>\n",
       "      <td>2960</td>\n",
       "      <td>0</td>\n",
       "      <td>0.727799</td>\n",
       "      <td>200</td>\n",
       "      <td>170-200</td>\n",
       "      <td>56-60</td>\n",
       "    </tr>\n",
       "    <tr>\n",
       "      <th>22057</th>\n",
       "      <td>51</td>\n",
       "      <td>1.0</td>\n",
       "      <td>A1</td>\n",
       "      <td>22.148708</td>\n",
       "      <td>No</td>\n",
       "      <td>173.0</td>\n",
       "      <td>80</td>\n",
       "      <td>Type A</td>\n",
       "      <td>69</td>\n",
       "      <td>4.836282</td>\n",
       "      <td>...</td>\n",
       "      <td>0</td>\n",
       "      <td>126</td>\n",
       "      <td>No</td>\n",
       "      <td>1.121768</td>\n",
       "      <td>3069</td>\n",
       "      <td>0</td>\n",
       "      <td>0.624464</td>\n",
       "      <td>150</td>\n",
       "      <td>140-170</td>\n",
       "      <td>51-55</td>\n",
       "    </tr>\n",
       "    <tr>\n",
       "      <th>12927</th>\n",
       "      <td>44</td>\n",
       "      <td>0.0</td>\n",
       "      <td>A1</td>\n",
       "      <td>22.313034</td>\n",
       "      <td>No</td>\n",
       "      <td>214.0</td>\n",
       "      <td>80</td>\n",
       "      <td>Type A</td>\n",
       "      <td>71</td>\n",
       "      <td>4.836282</td>\n",
       "      <td>...</td>\n",
       "      <td>0</td>\n",
       "      <td>126</td>\n",
       "      <td>No</td>\n",
       "      <td>2.425011</td>\n",
       "      <td>3081</td>\n",
       "      <td>0</td>\n",
       "      <td>0.378978</td>\n",
       "      <td>160</td>\n",
       "      <td>140-170</td>\n",
       "      <td>41-45</td>\n",
       "    </tr>\n",
       "  </tbody>\n",
       "</table>\n",
       "<p>5 rows × 21 columns</p>\n",
       "</div>"
      ],
      "text/plain": [
       "       age  arcus behpat        bmi chd69   chol  dbp  dibpat  height  \\\n",
       "id                                                                      \n",
       "2343    50    1.0     A1  31.321007    No  249.0   90  Type A      67   \n",
       "3656    51    0.0     A1  25.328579    No  194.0   74  Type A      73   \n",
       "3526    59    1.0     A1  28.693878    No  258.0   94  Type A      70   \n",
       "22057   51    1.0     A1  22.148708    No  173.0   80  Type A      69   \n",
       "12927   44    0.0     A1  22.313034    No  214.0   80  Type A      71   \n",
       "\n",
       "          lnsbp  ...    ncigs  sbp  smoke        t1  time169  typchd69  \\\n",
       "id               ...                                                     \n",
       "2343   4.882802  ...       25  132    Yes -1.633353     1367         0   \n",
       "3656   4.787492  ...       25  120    Yes -4.063366     2991         0   \n",
       "3526   5.062595  ...        0  158     No  0.639729     2960         0   \n",
       "22057  4.836282  ...        0  126     No  1.121768     3069         0   \n",
       "12927  4.836282  ...        0  126     No  2.425011     3081         0   \n",
       "\n",
       "            uni  weight  wghtcat   agec  \n",
       "id                                       \n",
       "2343   0.486074     200  170-200  46-50  \n",
       "3656   0.185954     192  170-200  51-55  \n",
       "3526   0.727799     200  170-200  56-60  \n",
       "22057  0.624464     150  140-170  51-55  \n",
       "12927  0.378978     160  140-170  41-45  \n",
       "\n",
       "[5 rows x 21 columns]"
      ]
     },
     "execution_count": 3,
     "metadata": {},
     "output_type": "execute_result"
    }
   ],
   "source": [
    "wcgs=pd.read_stata('./Data/Chapter2/wcgs.dta', index_col='id')\n",
    "wcgs.head(5)"
   ]
  },
  {
   "cell_type": "code",
   "execution_count": 4,
   "metadata": {},
   "outputs": [
    {
     "data": {
      "text/plain": [
       "age          0\n",
       "arcus        2\n",
       "behpat       0\n",
       "bmi          0\n",
       "chd69        0\n",
       "chol        12\n",
       "dbp          0\n",
       "dibpat       0\n",
       "height       0\n",
       "lnsbp        0\n",
       "lnwght       0\n",
       "ncigs        0\n",
       "sbp          0\n",
       "smoke        0\n",
       "t1          39\n",
       "time169      0\n",
       "typchd69     0\n",
       "uni          0\n",
       "weight       0\n",
       "wghtcat      0\n",
       "agec         0\n",
       "dtype: int64"
      ]
     },
     "execution_count": 4,
     "metadata": {},
     "output_type": "execute_result"
    }
   ],
   "source": [
    "wcgs.isna().sum()"
   ]
  },
  {
   "cell_type": "markdown",
   "metadata": {},
   "source": [
    "#### Numerical Description\n",
    "As a first step, we obtain basic descriptive statistics for SBP.\n",
    "Several features of the output are\n",
    "worth consideration. \n",
    "* The largest and smallest values should be scanned for outlying or incorrect values.\n",
    "* The mean (or median) and standard deviation should be assessed as general measures of the location and spread of the data."
   ]
  },
  {
   "cell_type": "code",
   "execution_count": 5,
   "metadata": {},
   "outputs": [
    {
     "data": {
      "text/plain": [
       "count    3154.000000\n",
       "mean      128.632847\n",
       "std        15.117731\n",
       "min        98.000000\n",
       "25%       120.000000\n",
       "50%       126.000000\n",
       "75%       136.000000\n",
       "max       230.000000\n",
       "Name: sbp, dtype: float64"
      ]
     },
     "execution_count": 5,
     "metadata": {},
     "output_type": "execute_result"
    }
   ],
   "source": [
    "wcgs.sbp.describe()"
   ]
  },
  {
   "cell_type": "markdown",
   "metadata": {},
   "source": [
    "* Secondary features are the skewness and kurtosis, though these are usually more easily assessed by the graphical means described in the next section. \n",
    "* Another assessment of skewness is a large difference between the mean and median.\n",
    "\n",
    "In right-skewed data,the mean is quite a bit larger than the median, while in left-skewed data, the mean is much smaller than the median."
   ]
  },
  {
   "cell_type": "code",
   "execution_count": 6,
   "metadata": {},
   "outputs": [
    {
     "data": {
      "text/plain": [
       "1.204396660550696"
      ]
     },
     "execution_count": 6,
     "metadata": {},
     "output_type": "execute_result"
    }
   ],
   "source": [
    "sp.stats.skew(wcgs['sbp'])"
   ]
  },
  {
   "cell_type": "code",
   "execution_count": 7,
   "metadata": {},
   "outputs": [
    {
     "data": {
      "text/plain": [
       "2.7924647337066197"
      ]
     },
     "execution_count": 7,
     "metadata": {},
     "output_type": "execute_result"
    }
   ],
   "source": [
    "sp.stats.kurtosis(wcgs['sbp'])"
   ]
  },
  {
   "cell_type": "code",
   "execution_count": 8,
   "metadata": {},
   "outputs": [
    {
     "data": {
      "text/plain": [
       "126.0"
      ]
     },
     "execution_count": 8,
     "metadata": {},
     "output_type": "execute_result"
    }
   ],
   "source": [
    "np.median(wcgs['sbp'])"
   ]
  },
  {
   "cell_type": "markdown",
   "metadata": {},
   "source": [
    "#### Graphical Description\n",
    "Graphs are often the quickest and most effective way to get a sense of the data.\n",
    "\n",
    "For numerical data, three basic graphs are most useful: the histogram, boxplot,\n",
    "and normal quantile–quantile (or Q–Q) plot. Each is useful for different purposes.\n",
    "* The histogram easily conveys information about the location, spread, and shape of the frequency distribution of the data.\n",
    "* The boxplot is a schematic identifying key features of the distribution.\n",
    "* the normal Q–Q plot facilitates comparison of the shape of the distribution of the data to a normal (or bell-shaped) distribution.\n",
    "\n",
    "##### Histogram\n",
    "The histogram displays the frequency of data points falling into various ranges as\n",
    "a bar chart. Figure 2.1 shows a histogram of the SBP data from WCGS. In this figure, we can see that\n",
    "most of the measurements are in the range of about 100 to 150, with a few extreme\n",
    "values around 200. The percentage of observations in the first interval is about\n",
    "47.4%.\n",
    "\n",
    "However, this is not a particularly well-constructed histogram. With over 3,000\n",
    "data points, we can use more intervals to increase the definition of the histogram and\n",
    "avoid grouping the data so coarsely. Using only five intervals, the first two including\n",
    "almost all the data, makes for a loss of information, since we only know the value of\n",
    "the data in those large “bins” to the limits of the interval (in the case of the first bin,\n",
    "between 98 and 125), and learn nothing about how the data are distributed within\n",
    "those intervals. Also, our preference is to provide more interpretable axis labeling.\n",
    "\n",
    "Figure 2.2 shows a modified histogram generated using the current version of Python `hist()`\n",
    "that provides much better definition as to the shape of the frequency distribution\n",
    "of SBP."
   ]
  },
  {
   "cell_type": "code",
   "execution_count": 9,
   "metadata": {},
   "outputs": [
    {
     "data": {
      "text/plain": [
       "Text(0.5, 1.0, 'Fig.2.2 Histogram of the systolic blood pressure data using 15 intervals')"
      ]
     },
     "execution_count": 9,
     "metadata": {},
     "output_type": "execute_result"
    },
    {
     "data": {
      "image/png": "[encoded data removed]",
      "text/plain": [
       "<Figure size 1152x432 with 2 Axes>"
      ]
     },
     "metadata": {
      "needs_background": "light"
     },
     "output_type": "display_data"
    }
   ],
   "source": [
    "fig, (ax1,ax2)=plt.subplots(ncols=2, sharex=False, sharey=False)\n",
    "fig.set_figheight(6)\n",
    "fig.set_figwidth(16)\n",
    "\n",
    "#First histogram plot\n",
    "# N is the count in each bin\n",
    "N, bins, patches =ax1.hist(wcgs['sbp'], weights=np.zeros_like(wcgs['sbp'])+1./ wcgs['sbp'].size,\n",
    "                          bins=5, range=(98,230))\n",
    "fracs = N / N.max()\n",
    "\n",
    "# we need to normalize the data to 0..1 for the full range of the colormap\n",
    "norm = colors.Normalize(fracs.min(), fracs.max())\n",
    "\n",
    "# Now, we'll loop through our objects and set the color of each accordingly\n",
    "for thisfrac, thispatch in zip(fracs, patches):\n",
    "    color = plt.cm.viridis(norm(thisfrac))\n",
    "    thispatch.set_facecolor(color)\n",
    "    \n",
    "ax1.set_xlabel('Systolic Blood Pressure', fontsize=12)\n",
    "ax1.set_ylabel('Fraction', fontsize=12)\n",
    "ax1.set_title('Fig.2.1 Histogram of the systolic blood pressure data')\n",
    "ax1.grid(True)\n",
    "\n",
    "#Second histogram plot\n",
    "N, bins, patches =ax2.hist(wcgs['sbp'], density=True, bins=15)\n",
    "fracs = N / N.max()\n",
    "\n",
    "# we need to normalize the data to 0..1 for the full range of the colormap\n",
    "norm = colors.Normalize(fracs.min(), fracs.max())\n",
    "\n",
    "# Now, we'll loop through our objects and set the color of each accordingly\n",
    "for thisfrac, thispatch in zip(fracs, patches):\n",
    "    color = plt.cm.viridis(norm(thisfrac))\n",
    "    thispatch.set_facecolor(color)\n",
    "    \n",
    "ax2.set_xlabel('Systolic Blood Pressure', fontsize=12)\n",
    "ax2.set_ylabel('Density', fontsize=12)\n",
    "ax2.set_title('Fig.2.2 Histogram of the systolic blood pressure data using 15 intervals')"
   ]
  },
  {
   "cell_type": "markdown",
   "metadata": {},
   "source": [
    "The key with a histogram is to use a sufficient number of intervals to define the\n",
    "shape of the distribution clearly and not lose much information, without using so\n",
    "many as to leave gaps, give the histogram a ragged shape, and defeat the goal of\n",
    "summarization. With 3,000 data points, we can afford quite a few bins. \n",
    "\n",
    "<font color=red> A rough rule of thumb is to choose the number of bins to be about $1+3.3 log_{10}(n)$,</font> where n is the sample size. Figure 2.2 uses 15 bins and provides a\n",
    "clear definition of the shape as well as a fair bit of detail.\n",
    "\n",
    "##### Boxplot\n",
    "The boxplot in Fig. 2.3 graphically displays information from the summary\n",
    "in Table 2.1, specifically the minimum, maximum, and 25th, 50th (median), and\n",
    "75th percentiles. This retains many of the advantages of a graphical display while\n",
    "still providing fairly precise numerical summaries. The “box” displays the 25th and\n",
    "75th percentiles (the lower and upper edges of the box) and the median (the line\n",
    "across the middle of the box)."
   ]
  },
  {
   "cell_type": "code",
   "execution_count": 10,
   "metadata": {},
   "outputs": [
    {
     "data": {
      "text/plain": [
       "Text(0, 0.5, 'Systolic Blood Pressure')"
      ]
     },
     "execution_count": 10,
     "metadata": {},
     "output_type": "execute_result"
    },
    {
     "data": {
      "image/png": "[encoded data removed]",
      "text/plain": [
       "<Figure size 576x576 with 1 Axes>"
      ]
     },
     "metadata": {
      "needs_background": "light"
     },
     "output_type": "display_data"
    }
   ],
   "source": [
    "fig, ax=plt.subplots(figsize=(8,8))\n",
    "ax=sns.boxplot(x=wcgs['sbp'], orient='v',width=0.4)\n",
    "ax.set_ylabel('Systolic Blood Pressure', fontsize=15)"
   ]
  },
  {
   "cell_type": "markdown",
   "metadata": {},
   "source": [
    "Boxplots convey a wealth of information about the distribution of the variable:\n",
    "\n",
    "* Location, as measured by the median\n",
    "* Spread, as measured by the height of the box (this is called the interquartile range or IQR)\n",
    "* Range of the observations\n",
    "* Presence of outliers\n",
    "* Some information about shape\n",
    "\n",
    "This last point bears further explanation. \n",
    "\n",
    "If the median is located toward the\n",
    "bottom of the box, then the data are right-skewed toward larger values.<font color=red> In right-skewed data,the mean is quite a bit larger than the median.</font> That is, distance between the median and the 75th percentile is greater than that between\n",
    "the median and the 25th percentile. Likewise, right-skewness will be indicated if the\n",
    "upper whisker is longer than the lower whisker or if there are more outliers in the\n",
    "upper range. Both the boxplot and the histogram show evidence for right-skewness\n",
    "in the SBP data.\n",
    "\n",
    "If the direction of the inequality is reversed (more outliers on\n",
    "the lower end, longer lower whisker, median toward the top of the box), then the\n",
    "distribution is left-skewed.<font color=red> in left-skewed data, the mean is much smaller than the median.</font>\n",
    "##### Q-Q plot\n",
    "\n",
    "Our final graphical technique, the normal Q–Q plot, is useful for comparing\n",
    "the frequency distribution of the data to a normal distribution. Since it is easy to\n",
    "distinguish lines that are straight from ones that are not, a normal Q–Q plot is\n",
    "constructed so that the data points fall along an approximately straight line when\n",
    "the data are from a normal distribution, and deviate systematically from a straight\n",
    "line when the data are from other distributions.\n",
    "\n",
    "Figure 2.4 shows the Q–Q plot for\n",
    "the SBP data. The line of the data points shows a distinct curvature, indicating the\n",
    "data are from a nonnormal distribution. Upward curvature, as in Fig. 2.4, is indicative of right-skewness,\n",
    "while downward curvature is indicative of left-skewness."
   ]
  },
  {
   "cell_type": "code",
   "execution_count": 11,
   "metadata": {},
   "outputs": [
    {
     "data": {
      "text/plain": [
       "Text(0.5, 1.0, 'Fig.2.4 Normal Q–Q plot of the systolic blood pressure data')"
      ]
     },
     "execution_count": 11,
     "metadata": {},
     "output_type": "execute_result"
    },
    {
     "data": {
      "image/png": "[encoded data removed]",
      "text/plain": [
       "<Figure size 576x576 with 1 Axes>"
      ]
     },
     "metadata": {
      "needs_background": "light"
     },
     "output_type": "display_data"
    }
   ],
   "source": [
    "fig, ax=plt.subplots()\n",
    "fig.set_figheight(8)\n",
    "fig.set_figwidth(8)\n",
    "\n",
    "sp.stats.probplot(wcgs['sbp'], plot=ax)\n",
    "ax.set_xlabel('Theoretical Quantiles', fontsize=12)\n",
    "ax.set_ylabel('Systolic Blood Pressure', fontsize=12)\n",
    "ax.set_title('Fig.2.4 Normal Q–Q plot of the systolic blood pressure data', fontsize=12)"
   ]
  },
  {
   "cell_type": "markdown",
   "metadata": {},
   "source": [
    "The other two common\n",
    "patterns are S-shaped. An S-shape as in Fig. 2.5 indicates a heavy-tailed distribution,\n",
    "while an S-shape like that in Fig. 2.6 is indicative of a light-tailed distribution. \n",
    "\n",
    "Heavy- and light-tailed are always in reference to a hypothetical normal distribution\n",
    "with the same spread. A heavy-tailed distribution has more observations in the middle of the distribution and way out in the tails, and fewer a modest way\n",
    "from the middle (simply having more in the tails would just mean a larger spread).\n",
    "Light-tailed means the reverse: fewer in the middle and far out tails and more in\n",
    "the mid-range. Heavy-tailed distributions are generally more worrisome than lighttailed\n",
    "since they are more likely to include outliers."
   ]
  },
  {
   "cell_type": "code",
   "execution_count": 12,
   "metadata": {},
   "outputs": [
    {
     "data": {
      "text/plain": [
       "Text(0.5, 1.0, 'Fig.2.5 Normal Q–Q plot of data from a heavy-tailed distribution')"
      ]
     },
     "execution_count": 12,
     "metadata": {},
     "output_type": "execute_result"
    },
    {
     "data": {
      "image/png": "[encoded data removed]",
      "text/plain": [
       "<Figure size 1008x576 with 2 Axes>"
      ]
     },
     "metadata": {
      "needs_background": "light"
     },
     "output_type": "display_data"
    }
   ],
   "source": [
    "fig, (ax1, ax2)=plt.subplots(ncols=2, sharex=False, sharey=False)\n",
    "fig.set_figheight(8)\n",
    "fig.set_figwidth(14)\n",
    "\n",
    "sp.stats.probplot(wcgs['sbp'], plot=ax1)\n",
    "ax1.set_xlabel('Theoretical Quantiles', fontsize=12)\n",
    "ax1.set_ylabel('Heavy-Tailed Distribution', fontsize=12)\n",
    "ax1.set_title('Fig.2.5 Normal Q–Q plot of data from a heavy-tailed distribution', fontsize=12)"
   ]
  },
  {
   "cell_type": "markdown",
   "metadata": {},
   "source": [
    "#### Transformations of Data\n",
    "\n",
    "A number of the techniques we describe in this book require the assumption of\n",
    "approximate normality or, at least, work better when the data are not highly skewed\n",
    "or heavy-tailed, and do not include extreme outliers. <font color=red>A common method for dealing\n",
    "with these problems is to transform such variables.</font> For example, instead of the\n",
    "measured values of SBP, we might instead use the logarithm of SBP. We first\n",
    "consider why this works and then some of the advantages and disadvantages of\n",
    "transformations.\n",
    "\n",
    "Transformations affect the distribution of values of a variable because they emphasize\n",
    "differences in a certain range of the data, while de-emphasizing differences\n",
    "in others.\n",
    "\n",
    "Consider a table of transformed values, as displayed in Table 2.2. On the\n",
    "original scale the difference between 0.01 and 0.1 is 0.09, but on the log10 scale,\n",
    "the difference is 1. In contrast, the difference between 100 and 1,000 on the original\n",
    "scale is 900, but this difference is also 1 on the $\\log_{10}$ scale. So a log transformation\n",
    "de-emphasizes differences at the upper end of the scale and emphasizes those at the\n",
    "lower end. This holds for the natural log as well as $\\log_{10}$ transformation. The effect\n",
    "can readily be seen in Fig. 2.7, which displays histograms of SBP on the original\n",
    "scale and after natural log transformation."
   ]
  },
  {
   "cell_type": "code",
   "execution_count": 13,
   "metadata": {},
   "outputs": [
    {
     "data": {
      "text/plain": [
       "Text(0, 0.5, 'Density')"
      ]
     },
     "execution_count": 13,
     "metadata": {},
     "output_type": "execute_result"
    },
    {
     "data": {
      "image/png": "[encoded data removed]",
      "text/plain": [
       "<Figure size 1152x432 with 2 Axes>"
      ]
     },
     "metadata": {
      "needs_background": "light"
     },
     "output_type": "display_data"
    }
   ],
   "source": [
    "fig, (ax1,ax2)=plt.subplots(ncols=2, sharex=False, sharey=False)\n",
    "fig.set_figheight(6)\n",
    "fig.set_figwidth(16)\n",
    "fig.suptitle('Fig 2.7 Histograms of systolic blood pressure and its natural logarithm', fontsize=15)\n",
    "\n",
    "#first histogram plot\n",
    "N, bins, patches =ax1.hist(wcgs['sbp'], density=True, bins=15)\n",
    "fracs = N / N.max()\n",
    "\n",
    "# we need to normalize the data to 0..1 for the full range of the colormap\n",
    "norm = colors.Normalize(fracs.min(), fracs.max())\n",
    "\n",
    "# Now, we'll loop through our objects and set the color of each accordingly\n",
    "for thisfrac, thispatch in zip(fracs, patches):\n",
    "    color = plt.cm.viridis(norm(thisfrac))\n",
    "    thispatch.set_facecolor(color)\n",
    "    \n",
    "ax1.set_xlabel('Systolic Blood Pressure', fontsize=12)\n",
    "ax1.set_ylabel('Density', fontsize=12)\n",
    "\n",
    "\n",
    "#second histogram plot\n",
    "N, bins, patches =ax2.hist(np.log(wcgs['sbp']), density=True, bins=15)\n",
    "fracs = N / N.max()\n",
    "\n",
    "# we need to normalize the data to 0..1 for the full range of the colormap\n",
    "norm = colors.Normalize(fracs.min(), fracs.max())\n",
    "\n",
    "# Now, we'll loop through our objects and set the color of each accordingly\n",
    "for thisfrac, thispatch in zip(fracs, patches):\n",
    "    color = plt.cm.viridis(norm(thisfrac))\n",
    "    thispatch.set_facecolor(color)\n",
    "\n",
    "ax2.set_xlabel('Ln of Systolic Blood Pressure', fontsize=12)\n",
    "ax2.set_ylabel('Density', fontsize=12)"
   ]
  },
  {
   "cell_type": "markdown",
   "metadata": {},
   "source": [
    "The log-transformed data is distinctly less right-skewed, even though some\n",
    "skewness is still evident. Essentially, we are viewing the data on a different scale\n",
    "of measurement.\n",
    "\n",
    "There are a couple of other reasons to consider transforming variables, as we will\n",
    "see in later sections and chapters: transformations can simplify the relationships between variables (e.g., by making a curvilinear relationship linear), can remove\n",
    "interactions, and can equalize variances across subgroups that previously had\n",
    "unequal variances.\n",
    "\n",
    "<font color=red>A primary objection to the use of transformations is that they make the data less\n",
    "interpretable.</font> After all, who thinks about medical costs in log dollars? In situations\n",
    "where there is good reason to stay with the original scale of measurement (e.g.,\n",
    "dollars), we may prefer alternatives to transformation including <font color=red>GLMs and weighted\n",
    "analyses. Or we may appeal to the robustness of normality-based techniques: many\n",
    "perform extremely well even when used with data exhibiting fairly serious violations\n",
    "of the assumptions.</font>\n",
    "\n",
    "In other situations, with a bit of work, it is straightforward to express the results\n",
    "on the original scale when the analysis has been conducted on a transformed scale.\n",
    "For example, Sect. 4.7.5 gives the details for log transformations in linear regression.\n",
    "\n",
    "A compromise when the goal is, for example, to test for differences between\n",
    "two arms in a clinical trial is to plan ahead to present basic descriptive statistics\n",
    "in the original scale, but perform tests on a transformed scale more appropriate for\n",
    "statistical analysis. After all, a difference on the transformed scale is still a difference\n",
    "between the two arms.\n",
    "\n",
    "Finally, we remind the reader that different scales of measurement just take a bit\n",
    "of getting used to: consider pH."
   ]
  },
  {
   "cell_type": "markdown",
   "metadata": {},
   "source": [
    "### 2.3.2 Categorical Variables\n",
    "\n",
    "Categorical variables require a different approach, since they are less amenable to\n",
    "graphical analyses and because common statistical summaries, such as mean and\n",
    "standard deviation, are inapplicable. Instead we use tabular descriptions.\n",
    "\n",
    "Table 2.3\n",
    "gives the frequencies, percents, and cumulative percents for each of the behavior\n",
    "pattern categories for the WCGS data. Note that cumulative percentages are really\n",
    "only useful with ordinal categorical data (why?)."
   ]
  },
  {
   "cell_type": "code",
   "execution_count": 14,
   "metadata": {},
   "outputs": [
    {
     "data": {
      "text/plain": [
       "Text(0.5, 1.0, 'Frequence of behavior patterns')"
      ]
     },
     "execution_count": 14,
     "metadata": {},
     "output_type": "execute_result"
    },
    {
     "data": {
      "image/png": "[encoded data removed]",
      "text/plain": [
       "<Figure size 432x432 with 1 Axes>"
      ]
     },
     "metadata": {
      "needs_background": "light"
     },
     "output_type": "display_data"
    }
   ],
   "source": [
    "fig, ax=plt.subplots(figsize=(6,6))\n",
    "ax=sns.countplot(wcgs['behpat'], label='Freq')\n",
    "ax.set_xlabel('Behavioral Pattern Level', fontsize=12)\n",
    "ax.set_ylabel('Frequence', fontsize=12)\n",
    "ax.set_title('Frequence of behavior patterns', fontsize=12)"
   ]
  },
  {
   "cell_type": "code",
   "execution_count": 15,
   "metadata": {},
   "outputs": [],
   "source": [
    "A2, B3, B4, A1=wcgs.behpat.value_counts()\n",
    "Tot=wcgs.behpat.value_counts().sum()\n",
    "P2,P3,P4,P1=round(wcgs.behpat.value_counts(normalize=True)*100,2)\n",
    "Top=round(wcgs.behpat.value_counts(normalize=True).sum()*100,2)"
   ]
  },
  {
   "cell_type": "code",
   "execution_count": 16,
   "metadata": {},
   "outputs": [
    {
     "data": {
      "text/html": [
       "<div>\n",
       "<style scoped>\n",
       "    .dataframe tbody tr th:only-of-type {\n",
       "        vertical-align: middle;\n",
       "    }\n",
       "\n",
       "    .dataframe tbody tr th {\n",
       "        vertical-align: top;\n",
       "    }\n",
       "\n",
       "    .dataframe thead th {\n",
       "        text-align: right;\n",
       "    }\n",
       "</style>\n",
       "<table border=\"1\" class=\"dataframe\">\n",
       "  <thead>\n",
       "    <tr style=\"text-align: right;\">\n",
       "      <th></th>\n",
       "      <th>Freq</th>\n",
       "      <th>Percent</th>\n",
       "    </tr>\n",
       "    <tr>\n",
       "      <th>Levels</th>\n",
       "      <th></th>\n",
       "      <th></th>\n",
       "    </tr>\n",
       "  </thead>\n",
       "  <tbody>\n",
       "    <tr>\n",
       "      <th>A1</th>\n",
       "      <td>264</td>\n",
       "      <td>8.37</td>\n",
       "    </tr>\n",
       "    <tr>\n",
       "      <th>A2</th>\n",
       "      <td>1325</td>\n",
       "      <td>42.01</td>\n",
       "    </tr>\n",
       "    <tr>\n",
       "      <th>B3</th>\n",
       "      <td>1216</td>\n",
       "      <td>38.55</td>\n",
       "    </tr>\n",
       "    <tr>\n",
       "      <th>B4</th>\n",
       "      <td>349</td>\n",
       "      <td>11.07</td>\n",
       "    </tr>\n",
       "    <tr>\n",
       "      <th>Total</th>\n",
       "      <td>3154</td>\n",
       "      <td>100.00</td>\n",
       "    </tr>\n",
       "  </tbody>\n",
       "</table>\n",
       "</div>"
      ],
      "text/plain": [
       "        Freq  Percent\n",
       "Levels               \n",
       "A1       264     8.37\n",
       "A2      1325    42.01\n",
       "B3      1216    38.55\n",
       "B4       349    11.07\n",
       "Total   3154   100.00"
      ]
     },
     "execution_count": 16,
     "metadata": {},
     "output_type": "execute_result"
    }
   ],
   "source": [
    "Table23=pd.DataFrame({'Levels':['A1','A2','B3','B4','Total'], 'Freq':[A1,A2, B3, B4,Tot],\n",
    "                      'Percent':[P1,P2,P3,P4, Top]},\n",
    "                     columns=['Levels','Freq','Percent'])\n",
    "Table23.set_index('Levels')"
   ]
  },
  {
   "cell_type": "markdown",
   "metadata": {},
   "source": [
    "When tables are generated by the computer, there is usually little latitude in the\n",
    "details. However, when tables are constructed by hand, thought should be given\n",
    "to their layout; Ehrenberg (1981) is recommended reading. Three easy-to-follow suggestions from that article are to \n",
    "* arrange the categories in a meaningful way (e.g.,not alphabetically), \n",
    "* report numbers to two effective digits, \n",
    "* leave a gap every three or four rows to make it easier to read across the table\n",
    "\n",
    "Table 2.4 illustrates these\n",
    "concepts. With the table arranged in order of the rankings, it is easy to see values\n",
    "that do not follow the pattern predicted by rank, for example, out-of-state tuition.\n",
    "\n",
    "\n",
    "## 2.4 Two-Variable Descriptions\n",
    "\n",
    "Most of the rest of this book is about the relationships among variables. An example\n",
    "from the WCGS is whether behavior pattern is related to SBP. In investigating the\n",
    "relationships between variables, it is often useful to distinguish the role that the\n",
    "variables play in an analysis.\n",
    "\n",
    "### 2.4.1 Outcome Versus Predictor Variables\n",
    "A key distinction is whether a variable is being predicted by the remaining variables,\n",
    "or whether it is being used to make the prediction.\n",
    "* The variable singled out to be predicted from the remaining variables we will call the <font color=DodgerBlue>outcome variable</font>; alternate and interchangeable names are <font color=DodgerBlue>response  variable or dependent variable.</font>\n",
    "* The variables used to make the prediction will be called <font color=DodgerBlue> predictor variables</font>. Alternate and equivalent terms are <font color=DodgerBlue> covariates and independent variables.</font>\n",
    "\n",
    "We slightly\n",
    "prefer the <font color=red>outcome/predictor combination</font>, since the term response conveys a cause and-\n",
    "effect interpretation, which may be inappropriate, and dependent/independent\n",
    "is confusing with regard to the notion of statistical independence. (“Independent\n",
    "variables do not have to be independent” is a true statement!).\n",
    "\n",
    "In the WCGS example, we might hypothesize that change in behavior pattern\n",
    "(which is potentially modifiable) might cause change in SBP. This would lead us to\n",
    "consider SBP as the outcome and behavior pattern as the predictor."
   ]
  },
  {
   "cell_type": "markdown",
   "metadata": {},
   "source": [
    "### 2.4.2 Continuous Outcome Variable\n",
    "As before, it is useful to consider the nature of the outcome and predictor variables\n",
    "in order to choose the appropriate descriptive technique.We begin with continuous\n",
    "outcome variables, first with a continuous predictor and then with a categorical\n",
    "predictor.\n",
    "\n",
    "When both the predictor and outcome variables are continuous, the typical\n",
    "numerical description is a correlation coefficient and its graphical counterpart is a\n",
    "scatterplot. Again considering the WCGS study, we will investigate the relationship\n",
    "between SBP and weight.\n",
    "##### Table 2.5 Correlation coefficient for systolic blood pressure and weight."
   ]
  },
  {
   "cell_type": "code",
   "execution_count": 18,
   "metadata": {},
   "outputs": [
    {
     "data": {
      "text/html": [
       "<style  type=\"text/css\" >\n",
       "    #T_1bb92afe_175a_11e9_b50b_dca904814159row0_col0 {\n",
       "            background-color:  #023858;\n",
       "        }    #T_1bb92afe_175a_11e9_b50b_dca904814159row0_col1 {\n",
       "            background-color:  #fff7fb;\n",
       "        }    #T_1bb92afe_175a_11e9_b50b_dca904814159row1_col0 {\n",
       "            background-color:  #fff7fb;\n",
       "        }    #T_1bb92afe_175a_11e9_b50b_dca904814159row1_col1 {\n",
       "            background-color:  #023858;\n",
       "        }</style>  \n",
       "<table id=\"T_1bb92afe_175a_11e9_b50b_dca904814159\" > \n",
       "<thead>    <tr> \n",
       "        <th class=\"blank level0\" ></th> \n",
       "        <th class=\"col_heading level0 col0\" >sbp</th> \n",
       "        <th class=\"col_heading level0 col1\" >weight</th> \n",
       "    </tr></thead> \n",
       "<tbody>    <tr> \n",
       "        <th id=\"T_1bb92afe_175a_11e9_b50b_dca904814159level0_row0\" class=\"row_heading level0 row0\" >sbp</th> \n",
       "        <td id=\"T_1bb92afe_175a_11e9_b50b_dca904814159row0_col0\" class=\"data row0 col0\" >1</td> \n",
       "        <td id=\"T_1bb92afe_175a_11e9_b50b_dca904814159row0_col1\" class=\"data row0 col1\" >0.25325</td> \n",
       "    </tr>    <tr> \n",
       "        <th id=\"T_1bb92afe_175a_11e9_b50b_dca904814159level0_row1\" class=\"row_heading level0 row1\" >weight</th> \n",
       "        <td id=\"T_1bb92afe_175a_11e9_b50b_dca904814159row1_col0\" class=\"data row1 col0\" >0.25325</td> \n",
       "        <td id=\"T_1bb92afe_175a_11e9_b50b_dca904814159row1_col1\" class=\"data row1 col1\" >1</td> \n",
       "    </tr></tbody> \n",
       "</table> "
      ],
      "text/plain": [
       "<pandas.io.formats.style.Styler at 0x10ad447b8>"
      ]
     },
     "execution_count": 18,
     "metadata": {},
     "output_type": "execute_result"
    }
   ],
   "source": [
    "corr=wcgs[['sbp','weight']].corr()\n",
    "corr.style.background_gradient()"
   ]
  },
  {
   "cell_type": "markdown",
   "metadata": {},
   "source": [
    "Table 2.5 shows the Python command and output for the correlation coefficient,\n",
    "while. Fig. 2.8 shows a scatterplot. Both the graph and the numerical summary\n",
    "confirm the same thing: <font color=red>there is a weak association between the two variables,\n",
    "as measured by the correlation of 0.25.</font> \n",
    "\n",
    "The graph conveys important additional\n",
    "information. In particular, <font color=red>there are quite a few outliers, including an especially\n",
    "anomalous data point with high blood pressure and the lowest weight in the dataset.</font>"
   ]
  },
  {
   "cell_type": "code",
   "execution_count": 21,
   "metadata": {},
   "outputs": [
    {
     "data": {
      "text/plain": [
       "Text(0.5, 1.0, 'Fig. 2.8 Scatterplot of systolic blood pressure versus weight')"
      ]
     },
     "execution_count": 21,
     "metadata": {},
     "output_type": "execute_result"
    },
    {
     "data": {
      "image/png": "[encoded data removed]",
      "text/plain": [
       "<Figure size 576x504 with 1 Axes>"
      ]
     },
     "metadata": {
      "needs_background": "light"
     },
     "output_type": "display_data"
    }
   ],
   "source": [
    "fig, ax=plt.subplots(figsize=(8,7))\n",
    "\n",
    "ax=sns.scatterplot(x=wcgs.weight, y=wcgs.sbp, markers='o')\n",
    "ax.set_xlabel('Weight(lbs)', fontsize=15)\n",
    "ax.set_ylabel('Systolic Blood Pressure', fontsize=15)\n",
    "ax.set_title('Fig. 2.8 Scatterplot of systolic blood pressure versus weight', fontsize=15)"
   ]
  },
  {
   "cell_type": "markdown",
   "metadata": {},
   "source": [
    "The Pearson correlation coefficient r, more fully described in Sect. 3.2, is a scalefree\n",
    "measure of association that does not depend on the units in which either SBP\n",
    "or weight is measured. <font color=red>The correlation coefficient varies between –1 and 1, and\n",
    "correlations of absolute value 0.7 or larger are considered strong associations in\n",
    "many contexts.</font> In fields where data are typically noisy, including our SBP example,\n",
    "much smaller correlations may be considered meaningful.\n",
    "\n",
    "It is important to keep in mind that the Pearson correlation coefficient only\n",
    "measures the strength of the linear relationship between two variables. To determine\n",
    "whether the correlation coefficient is a reasonable numerical summary of the\n",
    "association, a graphical tool that helps to assess linearity in the scatterplot is a\n",
    "<font color=red>scatterplot smoother.</font>\n",
    "\n",
    "Figure 2.9 shows a scatterplot smooth superimposed on the graph of SBP versus weight. <font color=red> Question: How to set this parameter in python?</font> The bw(0.25) option specifies that for estimation of the\n",
    "height of the curve at each point, 25% of the data nearest that point should be used.\n",
    "This is all just a fancy way of drawing a flexible curve through a cloud of points.\n",
    "\n",
    "Figure 2.9 shows that the relationship between SBP and weight is very close to\n",
    "linear. The small upward bend at the far left of the graph is mostly due to the outlying\n",
    "observation at the lowest weight and is a warning as to the instability of LOWESS\n",
    "(or any scatterplot smoother) at the edges of the data."
   ]
  },
  {
   "cell_type": "code",
   "execution_count": 31,
   "metadata": {},
   "outputs": [
    {
     "data": {
      "text/plain": [
       "Text(0.5, 1.0, 'Fig. 2.9 LOWESS smooth of systolic blood pressure versus weight')"
      ]
     },
     "execution_count": 31,
     "metadata": {},
     "output_type": "execute_result"
    },
    {
     "data": {
      "image/png": "[encoded data removed]",
      "text/plain": [
       "<Figure size 576x504 with 1 Axes>"
      ]
     },
     "metadata": {
      "needs_background": "light"
     },
     "output_type": "display_data"
    }
   ],
   "source": [
    "fig, ax=plt.subplots(figsize=(8,7))\n",
    "\n",
    "ax=sns.regplot(x='weight', y='sbp',data=wcgs, lowess=True, \n",
    "               scatter_kws={'s':9},line_kws={'color':'r'}, marker='o', fit_reg=True)\n",
    "ax.set_xlabel('Weight(lbs)', fontsize=15)\n",
    "ax.set_ylabel('Systolic Blood Pressure', fontsize=15)\n",
    "ax.set_title('Fig. 2.9 LOWESS smooth of systolic blood pressure versus weight', fontsize=15)"
   ]
  },
  {
   "cell_type": "markdown",
   "metadata": {},
   "source": [
    "Choice of bandwidth is somewhat subjective. Small bandwidths like 0.05 often\n",
    "give very bumpy curves, which are hard to interpret. At the other extreme,\n",
    "bandwidths too close to one force the curve to be practically a straight line, obviating\n",
    "the advantage of using a scatterplot smoother. See Problem 2.6.\n",
    "\n",
    "#### Categorical Predictor\n",
    "\n",
    "With a continuous outcome and a categorical predictor, the usual strategy is to apply\n",
    "the same numerical or graphical methods used for one-variable descriptions of a\n",
    "continuous outcome, but to do so separately within each category of the predictor.\n",
    "\n",
    "##### Table 2.6 Summary data for systolic blood pressure by behavior pattern"
   ]
  },
  {
   "cell_type": "code",
   "execution_count": 36,
   "metadata": {},
   "outputs": [
    {
     "data": {
      "text/html": [
       "<div>\n",
       "<style scoped>\n",
       "    .dataframe tbody tr th:only-of-type {\n",
       "        vertical-align: middle;\n",
       "    }\n",
       "\n",
       "    .dataframe tbody tr th {\n",
       "        vertical-align: top;\n",
       "    }\n",
       "\n",
       "    .dataframe thead th {\n",
       "        text-align: right;\n",
       "    }\n",
       "</style>\n",
       "<table border=\"1\" class=\"dataframe\">\n",
       "  <thead>\n",
       "    <tr style=\"text-align: right;\">\n",
       "      <th></th>\n",
       "      <th>count</th>\n",
       "      <th>mean</th>\n",
       "      <th>std</th>\n",
       "      <th>min</th>\n",
       "      <th>25%</th>\n",
       "      <th>50%</th>\n",
       "      <th>75%</th>\n",
       "      <th>max</th>\n",
       "    </tr>\n",
       "    <tr>\n",
       "      <th>behpat</th>\n",
       "      <th></th>\n",
       "      <th></th>\n",
       "      <th></th>\n",
       "      <th></th>\n",
       "      <th></th>\n",
       "      <th></th>\n",
       "      <th></th>\n",
       "      <th></th>\n",
       "    </tr>\n",
       "  </thead>\n",
       "  <tbody>\n",
       "    <tr>\n",
       "      <th>A1</th>\n",
       "      <td>264.0</td>\n",
       "      <td>129.246212</td>\n",
       "      <td>15.292210</td>\n",
       "      <td>100.0</td>\n",
       "      <td>120.0</td>\n",
       "      <td>126.0</td>\n",
       "      <td>138.5</td>\n",
       "      <td>200.0</td>\n",
       "    </tr>\n",
       "    <tr>\n",
       "      <th>A2</th>\n",
       "      <td>1325.0</td>\n",
       "      <td>129.889057</td>\n",
       "      <td>15.770845</td>\n",
       "      <td>100.0</td>\n",
       "      <td>120.0</td>\n",
       "      <td>128.0</td>\n",
       "      <td>138.0</td>\n",
       "      <td>212.0</td>\n",
       "    </tr>\n",
       "    <tr>\n",
       "      <th>B3</th>\n",
       "      <td>1216.0</td>\n",
       "      <td>127.555099</td>\n",
       "      <td>14.787947</td>\n",
       "      <td>98.0</td>\n",
       "      <td>118.0</td>\n",
       "      <td>124.0</td>\n",
       "      <td>136.0</td>\n",
       "      <td>230.0</td>\n",
       "    </tr>\n",
       "    <tr>\n",
       "      <th>B4</th>\n",
       "      <td>349.0</td>\n",
       "      <td>127.154728</td>\n",
       "      <td>13.101246</td>\n",
       "      <td>102.0</td>\n",
       "      <td>118.0</td>\n",
       "      <td>126.0</td>\n",
       "      <td>136.0</td>\n",
       "      <td>178.0</td>\n",
       "    </tr>\n",
       "  </tbody>\n",
       "</table>\n",
       "</div>"
      ],
      "text/plain": [
       "         count        mean        std    min    25%    50%    75%    max\n",
       "behpat                                                                  \n",
       "A1       264.0  129.246212  15.292210  100.0  120.0  126.0  138.5  200.0\n",
       "A2      1325.0  129.889057  15.770845  100.0  120.0  128.0  138.0  212.0\n",
       "B3      1216.0  127.555099  14.787947   98.0  118.0  124.0  136.0  230.0\n",
       "B4       349.0  127.154728  13.101246  102.0  118.0  126.0  136.0  178.0"
      ]
     },
     "execution_count": 36,
     "metadata": {},
     "output_type": "execute_result"
    }
   ],
   "source": [
    "wcgs['sbp'].groupby(wcgs['behpat']).describe()"
   ]
  },
  {
   "cell_type": "markdown",
   "metadata": {},
   "source": [
    "Table 2.6 shows the most direct way of doing this in Python Groupby. Side-by-side boxplots, as shown in Fig. 2.10, are an excellent graphical tool for\n",
    "examining the distribution of SBP in each of the behavior pattern categories and making comparisons among them. The four boxplots are quite similar. They each\n",
    "have about the same median, interquartile range, and a slight right-skewness. At\n",
    "least on the basis of this figure, there appears to be little relationship between SBP\n",
    "and behavior pattern."
   ]
  },
  {
   "cell_type": "code",
   "execution_count": 44,
   "metadata": {},
   "outputs": [
    {
     "data": {
      "text/plain": [
       "Text(0.5, 1.0, 'Fig. 2.10 Boxplots of systolic blood pressure by behavior pattern')"
      ]
     },
     "execution_count": 44,
     "metadata": {},
     "output_type": "execute_result"
    },
    {
     "data": {
      "image/png": "[encoded data removed]",
      "text/plain": [
       "<Figure size 864x504 with 1 Axes>"
      ]
     },
     "metadata": {
      "needs_background": "light"
     },
     "output_type": "display_data"
    }
   ],
   "source": [
    "fig,ax=plt.subplots(figsize=(12,7))\n",
    "\n",
    "ax=sns.boxplot(x=wcgs['behpat'], y=wcgs['sbp'], data=wcgs, width=0.6)\n",
    "ax.set_xlabel('Behavior Pattern', fontsize=15)\n",
    "ax.set_ylabel('Systolic Blood Pressure', fontsize=15)\n",
    "ax.set_title('Fig. 2.10 Boxplots of systolic blood pressure by behavior pattern', fontsize=15)"
   ]
  },
  {
   "cell_type": "markdown",
   "metadata": {},
   "source": [
    "### 2.4.3 Categorical Outcome Variable\n",
    "With a categorical outcome variable, the typical method is to tabulate the outcome\n",
    "within levels of the predictor variable. To do so first requires breaking any\n",
    "continuous predictors into categories. Suppose, for example, we wished to treat\n",
    "behavior pattern as the outcome variable and weight as the predictor.We might first\n",
    "divide weight into four categories: $\\leq 140$ pounds, $>140–170$,$>170–200$, and $>200$.\n",
    "As with histograms, we need enough categories to avoid loss of information,without"
   ]
  },
  {
   "cell_type": "code",
   "execution_count": null,
   "metadata": {},
   "outputs": [],
   "source": []
  },
  {
   "cell_type": "code",
   "execution_count": null,
   "metadata": {},
   "outputs": [],
   "source": []
  },
  {
   "cell_type": "code",
   "execution_count": null,
   "metadata": {},
   "outputs": [],
   "source": []
  },
  {
   "cell_type": "code",
   "execution_count": null,
   "metadata": {},
   "outputs": [],
   "source": []
  },
  {
   "cell_type": "code",
   "execution_count": null,
   "metadata": {},
   "outputs": [],
   "source": []
  },
  {
   "cell_type": "code",
   "execution_count": null,
   "metadata": {},
   "outputs": [],
   "source": []
  },
  {
   "cell_type": "code",
   "execution_count": null,
   "metadata": {},
   "outputs": [],
   "source": []
  },
  {
   "cell_type": "markdown",
   "metadata": {},
   "source": [
    "\n",
    "### 2.4.3 Categorical Outcome Variable\n",
    "## 2.5 Multivariable Descriptions\n"
   ]
  },
  {
   "cell_type": "code",
   "execution_count": null,
   "metadata": {},
   "outputs": [],
   "source": []
  },
  {
   "cell_type": "code",
   "execution_count": null,
   "metadata": {},
   "outputs": [],
   "source": []
  },
  {
   "cell_type": "code",
   "execution_count": null,
   "metadata": {},
   "outputs": [],
   "source": []
  },
  {
   "cell_type": "code",
   "execution_count": null,
   "metadata": {},
   "outputs": [],
   "source": []
  },
  {
   "cell_type": "code",
   "execution_count": null,
   "metadata": {},
   "outputs": [],
   "source": []
  },
  {
   "cell_type": "code",
   "execution_count": null,
   "metadata": {},
   "outputs": [],
   "source": []
  }
 ],
 "metadata": {
  "kernelspec": {
   "display_name": "Python 3",
   "language": "python",
   "name": "python3"
  },
  "language_info": {
   "codemirror_mode": {
    "name": "ipython",
    "version": 3
   },
   "file_extension": ".py",
   "mimetype": "text/x-python",
   "name": "python",
   "nbconvert_exporter": "python",
   "pygments_lexer": "ipython3",
   "version": "3.6.6"
  }
 },
 "nbformat": 4,
 "nbformat_minor": 2
}

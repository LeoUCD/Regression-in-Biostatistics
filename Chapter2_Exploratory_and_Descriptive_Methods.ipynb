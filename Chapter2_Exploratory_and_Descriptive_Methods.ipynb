{
 "cells": [
  {
   "cell_type": "markdown",
   "metadata": {},
   "source": [
    "# Chapter 2: Exploratory and Descriptive Methods\n",
    "Before beginning any sort of statistical analysis, it is imperative to take a preliminary\n",
    "look at the data with three main goals in mind:\n",
    "* <font color=red> check for errors and anomalies</font> Errors should, of course, be corrected, since even a small percentage of erroneous data values can drastically influence the results.\n",
    "* <font color=red>understand the distribution of each of the variables on its own.</font> Understanding the distribution of the variables, especially the outcomes, is crucial to choosing the appropriate multipredictor regression method.\n",
    "* <font color=red>begin to understand the nature and strength of relationships among variables.</font> Finally, understanding the nature and strength of relationships is the first step in building a more formal statistical model from which to draw conclusions.\n",
    "\n",
    "## 2.1 Data Checking\n",
    "Procedures for data checking should be implemented before data entry begins, to\n",
    "head off future headaches. Many data entry programs have the capability to screen\n",
    "for egregious errors, including values that are out the expected range or of the\n",
    "wrong “type.” If this is not possible, then we recommend regular checking for data\n",
    "problems as the database is constructed.\n",
    "Here are two examples we have encountered recently.\n",
    "##### Example 1. \n",
    "some values of a\n",
    "variable defined as a proportion were inadvertently entered as percentages (i.e., 100\n",
    "times larger than they should have been). Although they made up less than 3% of the\n",
    "values, the analysis was completely invalidated. Fortunately, this simple error was\n",
    "easily corrected once discovered.\n",
    "##### Example 2.\n",
    "A second example involved patients with a heart\n",
    "anomaly. Those whose diagnostic score was poor enough (i.e., exceeded a numerical\n",
    "threshold) were to be classified according to the type of anomaly. Data checks\n",
    "revealed missing classifications for patients whose diagnostic score exceeded the threshold, as well as classifications for patients whose score did not, complicating\n",
    "planned analyses. Had the data been screened as they were collected, this problem\n",
    "with study procedures could have been avoided.\n",
    "\n",
    "## 2.2 Types of Data\n",
    "The proper description of data depends on the nature of the measurement. The key\n",
    "distinction for statistical analysis is between numerical and categorical variables.The number of diagnostic tests ordered is a numerical variable, while the gender\n",
    "of a person is categorical.\n",
    "\n",
    "A secondary but sometimes important distinction within numerical variables is\n",
    "whether the variable can take on a whole continuum or just a discrete set of values.\n",
    "\n",
    "<font color=DodgerBlue> Definition: A numerical variable taking on a continuum of values is called continuous and\n",
    "one that only takes on a discrete set of values is called discrete.</font>\n",
    "\n",
    "A secondary distinction sometimes made with regard to categorical variables\n",
    "is whether the categories are ordered or unordered.\n",
    "\n",
    "<font color=DodgerBlue> Definition: A categorical variable is ordinal if the categories can be logically ordered from\n",
    "smallest to largest in a sense meaningful for the question at hand (we need to rule out silly\n",
    "orders like alphabetical); otherwise it is unordered or nominal.</font>\n",
    "\n",
    "This is the outline of the rest of this chapter.     \n",
    "\n",
    "### 2.3.2 Categorical Variables\n",
    "## 2.4 Two-Variable Descriptions\n",
    "### 2.4.1 Outcome Versus Predictor Variables\n",
    "### 2.4.2 Continuous Outcome Variable\n",
    "### 2.4.3 Categorical Outcome Variable\n",
    "## 2.5 Multivariable Descriptions\n",
    "\n",
    "## 2.3 One-Variable Descriptions\n",
    "We begin by describing techniques useful for examining a single variable at a time.\n",
    "These are useful for uncovering mistakes or extreme values in the data and for\n",
    "assessing distributional shape.\n",
    "### 2.3.1. Numerical Variables\n",
    "We can describe the distribution of numerical variables using either numerical or\n",
    "graphical techniques.\n",
    "##### Example Systolic Blood Pressure\n",
    "The western collaborative group study (WCGS) was a large epidemiological study\n",
    "designed to investigate the association between the “type A” behavior pattern and\n",
    "coronary heart disease (CHD) (Rosenman et al. 1964). We will revisit this study\n",
    "later in the book, focusing on the primary outcome, but for now we want to explore\n",
    "the distribution of SBP."
   ]
  },
  {
   "cell_type": "code",
   "execution_count": 37,
   "metadata": {},
   "outputs": [],
   "source": [
    "import numpy as np \n",
    "import pandas as pd\n",
    "import scipy as sp\n",
    "import matplotlib.pyplot as plt\n",
    "import seaborn as sns\n",
    "from matplotlib import colors\n",
    "from matplotlib.ticker import PercentFormatter\n",
    "%matplotlib inline\n",
    "plt.style.use('seaborn-white')"
   ]
  },
  {
   "cell_type": "code",
   "execution_count": 13,
   "metadata": {},
   "outputs": [],
   "source": [
    "import warnings\n",
    "warnings.filterwarnings('ignore')"
   ]
  },
  {
   "cell_type": "markdown",
   "metadata": {},
   "source": [
    "##### Load the data `wcgs`"
   ]
  },
  {
   "cell_type": "code",
   "execution_count": 4,
   "metadata": {},
   "outputs": [
    {
     "data": {
      "text/html": [
       "<div>\n",
       "<style scoped>\n",
       "    .dataframe tbody tr th:only-of-type {\n",
       "        vertical-align: middle;\n",
       "    }\n",
       "\n",
       "    .dataframe tbody tr th {\n",
       "        vertical-align: top;\n",
       "    }\n",
       "\n",
       "    .dataframe thead th {\n",
       "        text-align: right;\n",
       "    }\n",
       "</style>\n",
       "<table border=\"1\" class=\"dataframe\">\n",
       "  <thead>\n",
       "    <tr style=\"text-align: right;\">\n",
       "      <th></th>\n",
       "      <th>age</th>\n",
       "      <th>arcus</th>\n",
       "      <th>behpat</th>\n",
       "      <th>bmi</th>\n",
       "      <th>chd69</th>\n",
       "      <th>chol</th>\n",
       "      <th>dbp</th>\n",
       "      <th>dibpat</th>\n",
       "      <th>height</th>\n",
       "      <th>lnsbp</th>\n",
       "      <th>...</th>\n",
       "      <th>ncigs</th>\n",
       "      <th>sbp</th>\n",
       "      <th>smoke</th>\n",
       "      <th>t1</th>\n",
       "      <th>time169</th>\n",
       "      <th>typchd69</th>\n",
       "      <th>uni</th>\n",
       "      <th>weight</th>\n",
       "      <th>wghtcat</th>\n",
       "      <th>agec</th>\n",
       "    </tr>\n",
       "    <tr>\n",
       "      <th>id</th>\n",
       "      <th></th>\n",
       "      <th></th>\n",
       "      <th></th>\n",
       "      <th></th>\n",
       "      <th></th>\n",
       "      <th></th>\n",
       "      <th></th>\n",
       "      <th></th>\n",
       "      <th></th>\n",
       "      <th></th>\n",
       "      <th></th>\n",
       "      <th></th>\n",
       "      <th></th>\n",
       "      <th></th>\n",
       "      <th></th>\n",
       "      <th></th>\n",
       "      <th></th>\n",
       "      <th></th>\n",
       "      <th></th>\n",
       "      <th></th>\n",
       "      <th></th>\n",
       "    </tr>\n",
       "  </thead>\n",
       "  <tbody>\n",
       "    <tr>\n",
       "      <th>2343</th>\n",
       "      <td>50</td>\n",
       "      <td>1.0</td>\n",
       "      <td>A1</td>\n",
       "      <td>31.321007</td>\n",
       "      <td>No</td>\n",
       "      <td>249.0</td>\n",
       "      <td>90</td>\n",
       "      <td>Type A</td>\n",
       "      <td>67</td>\n",
       "      <td>4.882802</td>\n",
       "      <td>...</td>\n",
       "      <td>25</td>\n",
       "      <td>132</td>\n",
       "      <td>Yes</td>\n",
       "      <td>-1.633353</td>\n",
       "      <td>1367</td>\n",
       "      <td>0</td>\n",
       "      <td>0.486074</td>\n",
       "      <td>200</td>\n",
       "      <td>170-200</td>\n",
       "      <td>46-50</td>\n",
       "    </tr>\n",
       "    <tr>\n",
       "      <th>3656</th>\n",
       "      <td>51</td>\n",
       "      <td>0.0</td>\n",
       "      <td>A1</td>\n",
       "      <td>25.328579</td>\n",
       "      <td>No</td>\n",
       "      <td>194.0</td>\n",
       "      <td>74</td>\n",
       "      <td>Type A</td>\n",
       "      <td>73</td>\n",
       "      <td>4.787492</td>\n",
       "      <td>...</td>\n",
       "      <td>25</td>\n",
       "      <td>120</td>\n",
       "      <td>Yes</td>\n",
       "      <td>-4.063366</td>\n",
       "      <td>2991</td>\n",
       "      <td>0</td>\n",
       "      <td>0.185954</td>\n",
       "      <td>192</td>\n",
       "      <td>170-200</td>\n",
       "      <td>51-55</td>\n",
       "    </tr>\n",
       "    <tr>\n",
       "      <th>3526</th>\n",
       "      <td>59</td>\n",
       "      <td>1.0</td>\n",
       "      <td>A1</td>\n",
       "      <td>28.693878</td>\n",
       "      <td>No</td>\n",
       "      <td>258.0</td>\n",
       "      <td>94</td>\n",
       "      <td>Type A</td>\n",
       "      <td>70</td>\n",
       "      <td>5.062595</td>\n",
       "      <td>...</td>\n",
       "      <td>0</td>\n",
       "      <td>158</td>\n",
       "      <td>No</td>\n",
       "      <td>0.639729</td>\n",
       "      <td>2960</td>\n",
       "      <td>0</td>\n",
       "      <td>0.727799</td>\n",
       "      <td>200</td>\n",
       "      <td>170-200</td>\n",
       "      <td>56-60</td>\n",
       "    </tr>\n",
       "    <tr>\n",
       "      <th>22057</th>\n",
       "      <td>51</td>\n",
       "      <td>1.0</td>\n",
       "      <td>A1</td>\n",
       "      <td>22.148708</td>\n",
       "      <td>No</td>\n",
       "      <td>173.0</td>\n",
       "      <td>80</td>\n",
       "      <td>Type A</td>\n",
       "      <td>69</td>\n",
       "      <td>4.836282</td>\n",
       "      <td>...</td>\n",
       "      <td>0</td>\n",
       "      <td>126</td>\n",
       "      <td>No</td>\n",
       "      <td>1.121768</td>\n",
       "      <td>3069</td>\n",
       "      <td>0</td>\n",
       "      <td>0.624464</td>\n",
       "      <td>150</td>\n",
       "      <td>140-170</td>\n",
       "      <td>51-55</td>\n",
       "    </tr>\n",
       "    <tr>\n",
       "      <th>12927</th>\n",
       "      <td>44</td>\n",
       "      <td>0.0</td>\n",
       "      <td>A1</td>\n",
       "      <td>22.313034</td>\n",
       "      <td>No</td>\n",
       "      <td>214.0</td>\n",
       "      <td>80</td>\n",
       "      <td>Type A</td>\n",
       "      <td>71</td>\n",
       "      <td>4.836282</td>\n",
       "      <td>...</td>\n",
       "      <td>0</td>\n",
       "      <td>126</td>\n",
       "      <td>No</td>\n",
       "      <td>2.425011</td>\n",
       "      <td>3081</td>\n",
       "      <td>0</td>\n",
       "      <td>0.378978</td>\n",
       "      <td>160</td>\n",
       "      <td>140-170</td>\n",
       "      <td>41-45</td>\n",
       "    </tr>\n",
       "  </tbody>\n",
       "</table>\n",
       "<p>5 rows × 21 columns</p>\n",
       "</div>"
      ],
      "text/plain": [
       "       age  arcus behpat        bmi chd69   chol  dbp  dibpat  height  \\\n",
       "id                                                                      \n",
       "2343    50    1.0     A1  31.321007    No  249.0   90  Type A      67   \n",
       "3656    51    0.0     A1  25.328579    No  194.0   74  Type A      73   \n",
       "3526    59    1.0     A1  28.693878    No  258.0   94  Type A      70   \n",
       "22057   51    1.0     A1  22.148708    No  173.0   80  Type A      69   \n",
       "12927   44    0.0     A1  22.313034    No  214.0   80  Type A      71   \n",
       "\n",
       "          lnsbp  ...    ncigs  sbp  smoke        t1  time169  typchd69  \\\n",
       "id               ...                                                     \n",
       "2343   4.882802  ...       25  132    Yes -1.633353     1367         0   \n",
       "3656   4.787492  ...       25  120    Yes -4.063366     2991         0   \n",
       "3526   5.062595  ...        0  158     No  0.639729     2960         0   \n",
       "22057  4.836282  ...        0  126     No  1.121768     3069         0   \n",
       "12927  4.836282  ...        0  126     No  2.425011     3081         0   \n",
       "\n",
       "            uni  weight  wghtcat   agec  \n",
       "id                                       \n",
       "2343   0.486074     200  170-200  46-50  \n",
       "3656   0.185954     192  170-200  51-55  \n",
       "3526   0.727799     200  170-200  56-60  \n",
       "22057  0.624464     150  140-170  51-55  \n",
       "12927  0.378978     160  140-170  41-45  \n",
       "\n",
       "[5 rows x 21 columns]"
      ]
     },
     "execution_count": 4,
     "metadata": {},
     "output_type": "execute_result"
    }
   ],
   "source": [
    "wcgs=pd.read_stata('./Data/Chapter2/wcgs.dta', index_col='id')\n",
    "wcgs.head(5)"
   ]
  },
  {
   "cell_type": "code",
   "execution_count": 9,
   "metadata": {},
   "outputs": [
    {
     "data": {
      "text/plain": [
       "age          0\n",
       "arcus        2\n",
       "behpat       0\n",
       "bmi          0\n",
       "chd69        0\n",
       "chol        12\n",
       "dbp          0\n",
       "dibpat       0\n",
       "height       0\n",
       "lnsbp        0\n",
       "lnwght       0\n",
       "ncigs        0\n",
       "sbp          0\n",
       "smoke        0\n",
       "t1          39\n",
       "time169      0\n",
       "typchd69     0\n",
       "uni          0\n",
       "weight       0\n",
       "wghtcat      0\n",
       "agec         0\n",
       "dtype: int64"
      ]
     },
     "execution_count": 9,
     "metadata": {},
     "output_type": "execute_result"
    }
   ],
   "source": [
    "wcgs.isna().sum()"
   ]
  },
  {
   "cell_type": "markdown",
   "metadata": {},
   "source": [
    "#### Numerical Description\n",
    "As a first step, we obtain basic descriptive statistics for SBP.\n",
    "Several features of the output are\n",
    "worth consideration. \n",
    "* The largest and smallest values should be scanned for outlying or incorrect values.\n",
    "* The mean (or median) and standard deviation should be assessed as general measures of the location and spread of the data."
   ]
  },
  {
   "cell_type": "code",
   "execution_count": 5,
   "metadata": {},
   "outputs": [
    {
     "data": {
      "text/plain": [
       "count    3154.000000\n",
       "mean      128.632847\n",
       "std        15.117731\n",
       "min        98.000000\n",
       "25%       120.000000\n",
       "50%       126.000000\n",
       "75%       136.000000\n",
       "max       230.000000\n",
       "Name: sbp, dtype: float64"
      ]
     },
     "execution_count": 5,
     "metadata": {},
     "output_type": "execute_result"
    }
   ],
   "source": [
    "wcgs.sbp.describe()"
   ]
  },
  {
   "cell_type": "markdown",
   "metadata": {},
   "source": [
    "* Secondary features are the skewness and kurtosis, though these are usually more easily assessed by the graphical means described in the next section. \n",
    "* Another assessment of skewness is a large difference between the mean and median.\n",
    "\n",
    "In right-skewed data,the mean is quite a bit larger than the median, while in left-skewed data, the mean is much smaller than the median."
   ]
  },
  {
   "cell_type": "code",
   "execution_count": 6,
   "metadata": {},
   "outputs": [
    {
     "data": {
      "text/plain": [
       "1.204396660550696"
      ]
     },
     "execution_count": 6,
     "metadata": {},
     "output_type": "execute_result"
    }
   ],
   "source": [
    "sp.stats.skew(wcgs['sbp'])"
   ]
  },
  {
   "cell_type": "code",
   "execution_count": 7,
   "metadata": {},
   "outputs": [
    {
     "data": {
      "text/plain": [
       "2.7924647337066197"
      ]
     },
     "execution_count": 7,
     "metadata": {},
     "output_type": "execute_result"
    }
   ],
   "source": [
    "sp.stats.kurtosis(wcgs['sbp'])"
   ]
  },
  {
   "cell_type": "code",
   "execution_count": 8,
   "metadata": {},
   "outputs": [
    {
     "data": {
      "text/plain": [
       "126.0"
      ]
     },
     "execution_count": 8,
     "metadata": {},
     "output_type": "execute_result"
    }
   ],
   "source": [
    "np.median(wcgs['sbp'])"
   ]
  },
  {
   "cell_type": "markdown",
   "metadata": {},
   "source": [
    "#### Graphical Description\n",
    "Graphs are often the quickest and most effective way to get a sense of the data.\n",
    "\n",
    "For numerical data, three basic graphs are most useful: the histogram, boxplot,\n",
    "and normal quantile–quantile (or Q–Q) plot. Each is useful for different purposes.\n",
    "* The histogram easily conveys information about the location, spread, and shape of the frequency distribution of the data.\n",
    "* The boxplot is a schematic identifying key features of the distribution.\n",
    "* the normal Q–Q plot facilitates comparison of the shape of the distribution of the data to a normal (or bell-shaped) distribution.\n",
    "\n",
    "##### Histogram\n",
    "The histogram displays the frequency of data points falling into various ranges as\n",
    "a bar chart. Figure 2.1 shows a histogram of the SBP data from WCGS. In this figure, we can see that\n",
    "most of the measurements are in the range of about 100 to 150, with a few extreme\n",
    "values around 200. The percentage of observations in the first interval is about\n",
    "47.4%.\n",
    "\n",
    "However, this is not a particularly well-constructed histogram. With over 3,000\n",
    "data points, we can use more intervals to increase the definition of the histogram and\n",
    "avoid grouping the data so coarsely. Using only five intervals, the first two including\n",
    "almost all the data, makes for a loss of information, since we only know the value of\n",
    "the data in those large “bins” to the limits of the interval (in the case of the first bin,\n",
    "between 98 and 125), and learn nothing about how the data are distributed within\n",
    "those intervals. Also, our preference is to provide more interpretable axis labeling.\n",
    "\n",
    "Figure 2.2 shows a modified histogram generated using the current version of Python `hist()`\n",
    "that provides much better definition as to the shape of the frequency distribution\n",
    "of SBP."
   ]
  },
  {
   "cell_type": "code",
   "execution_count": 48,
   "metadata": {},
   "outputs": [
    {
     "data": {
      "text/plain": [
       "Text(0.5, 1.0, 'Fig.2.2 Histogram of the systolic blood pressure data using 15 intervals')"
      ]
     },
     "execution_count": 48,
     "metadata": {},
     "output_type": "execute_result"
    },
    {
     "data": {
      "image/png": "[encoded data removed]",
      "text/plain": [
       "<Figure size 1152x432 with 2 Axes>"
      ]
     },
     "metadata": {},
     "output_type": "display_data"
    }
   ],
   "source": [
    "fig, (ax1,ax2)=plt.subplots(ncols=2, sharex=False, sharey=False)\n",
    "fig.set_figheight(6)\n",
    "fig.set_figwidth(16)\n",
    "\n",
    "#First histogram plot\n",
    "# N is the count in each bin\n",
    "N, bins, patches =ax1.hist(wcgs['sbp'], weights=np.zeros_like(wcgs['sbp'])+1./ wcgs['sbp'].size,\n",
    "                          bins=5, range=(98,230))\n",
    "fracs = N / N.max()\n",
    "\n",
    "# we need to normalize the data to 0..1 for the full range of the colormap\n",
    "norm = colors.Normalize(fracs.min(), fracs.max())\n",
    "\n",
    "# Now, we'll loop through our objects and set the color of each accordingly\n",
    "for thisfrac, thispatch in zip(fracs, patches):\n",
    "    color = plt.cm.viridis(norm(thisfrac))\n",
    "    thispatch.set_facecolor(color)\n",
    "    \n",
    "ax1.set_xlabel('Systolic Blood Pressure', fontsize=12)\n",
    "ax1.set_ylabel('Fraction', fontsize=12)\n",
    "ax1.set_title('Fig.2.1 Histogram of the systolic blood pressure data')\n",
    "ax1.grid(True)\n",
    "\n",
    "#Second histogram plot\n",
    "N, bins, patches =ax2.hist(wcgs['sbp'], density=True, bins=15)\n",
    "fracs = N / N.max()\n",
    "\n",
    "# we need to normalize the data to 0..1 for the full range of the colormap\n",
    "norm = colors.Normalize(fracs.min(), fracs.max())\n",
    "\n",
    "# Now, we'll loop through our objects and set the color of each accordingly\n",
    "for thisfrac, thispatch in zip(fracs, patches):\n",
    "    color = plt.cm.viridis(norm(thisfrac))\n",
    "    thispatch.set_facecolor(color)\n",
    "    \n",
    "ax2.set_xlabel('Systolic Blood Pressure', fontsize=12)\n",
    "ax2.set_ylabel('Density', fontsize=12)\n",
    "ax2.set_title('Fig.2.2 Histogram of the systolic blood pressure data using 15 intervals')"
   ]
  },
  {
   "cell_type": "markdown",
   "metadata": {},
   "source": [
    "The key with a histogram is to use a sufficient number of intervals to define the\n",
    "shape of the distribution clearly and not lose much information, without using so\n",
    "many as to leave gaps, give the histogram a ragged shape, and defeat the goal of\n",
    "summarization. With 3,000 data points, we can afford quite a few bins. \n",
    "\n",
    "<font color=red> A rough rule of thumb is to choose the number of bins to be about $1+3.3 log_{10}(n)$,</font> where n is the sample size. Figure 2.2 uses 15 bins and provides a\n",
    "clear definition of the shape as well as a fair bit of detail.\n",
    "\n",
    "##### Boxplot\n",
    "The boxplot in Fig. 2.3 graphically displays information from the summary\n",
    "in Table 2.1, specifically the minimum, maximum, and 25th, 50th (median), and\n",
    "75th percentiles. This retains many of the advantages of a graphical display while\n",
    "still providing fairly precise numerical summaries. The “box” displays the 25th and\n",
    "75th percentiles (the lower and upper edges of the box) and the median (the line\n",
    "across the middle of the box)."
   ]
  },
  {
   "cell_type": "code",
   "execution_count": 56,
   "metadata": {},
   "outputs": [
    {
     "data": {
      "text/plain": [
       "Text(0, 0.5, 'Systolic Blood Pressure')"
      ]
     },
     "execution_count": 56,
     "metadata": {},
     "output_type": "execute_result"
    },
    {
     "data": {
      "image/png": "[encoded data removed]",
      "text/plain": [
       "<Figure size 576x576 with 1 Axes>"
      ]
     },
     "metadata": {},
     "output_type": "display_data"
    }
   ],
   "source": [
    "fig, ax=plt.subplots(figsize=(8,8))\n",
    "ax=sns.boxplot(x=wcgs['sbp'], orient='v',width=0.4)\n",
    "ax.set_ylabel('Systolic Blood Pressure', fontsize=15)"
   ]
  },
  {
   "cell_type": "markdown",
   "metadata": {},
   "source": [
    "Boxplots convey a wealth of information about the distribution of the variable:\n",
    "\n",
    "* Location, as measured by the median\n",
    "* Spread, as measured by the height of the box (this is called the interquartile range or IQR)\n",
    "* Range of the observations\n",
    "* Presence of outliers\n",
    "* Some information about shape\n",
    "\n",
    "This last point bears further explanation. \n",
    "\n",
    "If the median is located toward the\n",
    "bottom of the box, then the data are right-skewed toward larger values.<font color=red> In right-skewed data,the mean is quite a bit larger than the median.</font> That is, distance between the median and the 75th percentile is greater than that between\n",
    "the median and the 25th percentile. Likewise, right-skewness will be indicated if the\n",
    "upper whisker is longer than the lower whisker or if there are more outliers in the\n",
    "upper range. Both the boxplot and the histogram show evidence for right-skewness\n",
    "in the SBP data.\n",
    "\n",
    "If the direction of the inequality is reversed (more outliers on\n",
    "the lower end, longer lower whisker, median toward the top of the box), then the\n",
    "distribution is left-skewed.<font color=red> in left-skewed data, the mean is much smaller than the median.</font>"
   ]
  },
  {
   "cell_type": "code",
   "execution_count": null,
   "metadata": {},
   "outputs": [],
   "source": []
  }
 ],
 "metadata": {
  "kernelspec": {
   "display_name": "Python 3",
   "language": "python",
   "name": "python3"
  },
  "language_info": {
   "codemirror_mode": {
    "name": "ipython",
    "version": 3
   },
   "file_extension": ".py",
   "mimetype": "text/x-python",
   "name": "python",
   "nbconvert_exporter": "python",
   "pygments_lexer": "ipython3",
   "version": "3.6.6"
  }
 },
 "nbformat": 4,
 "nbformat_minor": 2
}
